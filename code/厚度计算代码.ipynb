{
 "cells": [
  {
   "cell_type": "code",
   "execution_count": 2,
   "id": "be8861b2-128b-485b-b81d-95cf400b07f2",
   "metadata": {},
   "outputs": [
    {
     "name": "stdout",
     "output_type": "stream",
     "text": [
      "3.9560855407033246\n"
     ]
    }
   ],
   "source": [
    "import math\n",
    "import pandas as pd\n",
    "from scipy.interpolate import interp1d\n",
    "\n",
    "# Load the CSV file to extract data\n",
    "data = pd.read_csv('question3.csv')  # 替换为文件路径\n",
    "x_data = data.iloc[:, 0].values  # 第一列数据\n",
    "y_data = data.iloc[:, 1].values  # 第二列数据\n",
    "\n",
    "# 插值函数，用于根据mid值计算n2\n",
    "def findn2(mid):\n",
    "    interpolation_function = interp1d(x_data, y_data, kind='linear', fill_value=\"extrapolate\")\n",
    "    return interpolation_function(mid)\n",
    "\n",
    "# 计算d的函数\n",
    "def cal_d(left, right, alpha):\n",
    "    delta_T = right - left\n",
    "    mid = (left + right) / 2\n",
    "    n2 = findn2(mid)  # 使用插值获取n2\n",
    "    denominator = 2 * delta_T * math.sqrt(n2**2 - math.sin(math.radians(alpha))**2)\n",
    "    d = 1 / denominator\n",
    "    return d\n",
    "\n",
    "# 计算结果\n",
    "result = cal_d(568.90, 939.65, 15)\n",
    "print(result*10000)\n"
   ]
  },
  {
   "cell_type": "code",
   "execution_count": 3,
   "id": "db8e3a37-4b12-493a-af90-4860bf3546aa",
   "metadata": {},
   "outputs": [
    {
     "name": "stdout",
     "output_type": "stream",
     "text": [
      "每对相邻波谷之间的d值:\n",
      "波谷位置: 573.719 和 946.395 之间的d值为: 3.9294050809029435\n",
      "波谷位置: 946.395 和 1322.928 之间的d值为: 3.88800420052055\n",
      "波谷位置: 1322.928 和 1734.174 之间的d值为: 3.5582100726909105\n",
      "波谷位置: 1734.174 和 2157.954 之间的d值为: 3.450844263187017\n",
      "波谷位置: 2157.954 和 2582.217 之间的d值为: 3.444261314901209\n",
      "波谷位置: 2582.217 和 3019.497 之间的d值为: 3.338598660642248\n",
      "\n",
      "d值的均值: 3.601553932140813\n",
      "d值的方差: 0.06160373374292321\n"
     ]
    }
   ],
   "source": [
    "import math\n",
    "import statistics\n",
    "\n",
    "# 波谷位置\n",
    "#peaks = [568.90, 939.65, 1312.32, 1715.37, 2136.26, 2563.41, 2992.98]\n",
    "peaks = [573.719,946.395,1322.928,1734.174,2157.954,2582.217,3019.497]\n",
    "# 插值函数（假设已通过插值获得）\n",
    "def findn2(mid):\n",
    "    interpolation_function = interp1d(x_data, y_data, kind='linear', fill_value=\"extrapolate\")\n",
    "    return interpolation_function(mid)\n",
    "\n",
    "# 计算d的函数\n",
    "def cal_d(left, right, alpha):\n",
    "    delta_T = right - left\n",
    "    mid = (left + right) / 2\n",
    "    n2 = findn2(mid)  # 使用插值获取n2\n",
    "    denominator = 2 * delta_T * math.sqrt(n2**2 - math.sin(math.radians(alpha))**2)\n",
    "    d = 1 / denominator\n",
    "    return d*10000\n",
    "\n",
    "# 计算相邻波谷之间的d值\n",
    "#alpha = 15  # 角度\n",
    "alpha = 10  # 角度\n",
    "results = []\n",
    "\n",
    "# 逐对计算相邻波谷之间的d值\n",
    "for i in range(len(peaks) - 1):\n",
    "    left = peaks[i]\n",
    "    right = peaks[i + 1]\n",
    "    d_value = cal_d(left, right, alpha)\n",
    "    results.append(d_value)\n",
    "\n",
    "# 计算d的均值和方差\n",
    "mean_d = statistics.mean(results)\n",
    "variance_d = statistics.variance(results)\n",
    "\n",
    "# 输出结果\n",
    "print(\"每对相邻波谷之间的d值:\")\n",
    "for i, d in enumerate(results):\n",
    "    print(f\"波谷位置: {peaks[i]} 和 {peaks[i + 1]} 之间的d值为: {d}\")\n",
    "\n",
    "print(f\"\\nd值的均值: {mean_d}\")\n",
    "print(f\"d值的方差: {variance_d}\")\n"
   ]
  }
 ],
 "metadata": {
  "kernelspec": {
   "display_name": "Python [conda env:base] *",
   "language": "python",
   "name": "conda-base-py"
  },
  "language_info": {
   "codemirror_mode": {
    "name": "ipython",
    "version": 3
   },
   "file_extension": ".py",
   "mimetype": "text/x-python",
   "name": "python",
   "nbconvert_exporter": "python",
   "pygments_lexer": "ipython3",
   "version": "3.12.7"
  }
 },
 "nbformat": 4,
 "nbformat_minor": 5
}
